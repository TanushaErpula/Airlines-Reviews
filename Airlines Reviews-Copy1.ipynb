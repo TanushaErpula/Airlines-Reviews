{
 "cells": [
  {
   "cell_type": "code",
   "execution_count": 108,
   "id": "3713935b",
   "metadata": {},
   "outputs": [
    {
     "name": "stdout",
     "output_type": "stream",
     "text": [
      "     Aircraft Type                                      Users Reviews  \\\n",
      "0              NaN  ✅Trip Verified|  Cancelled our flight last-min...   \n",
      "1              NaN  ✅Trip Verified| I had a flight from Miami, Flo...   \n",
      "2              NaN  ✅Trip Verified|  We started our day with BA in...   \n",
      "3              NaN  ✅Trip Verified|  I fly British Airways weekly ...   \n",
      "4              NaN  Not Verified|  Everything was ok until our con...   \n",
      "...            ...                                                ...   \n",
      "3285           NaN  LAX to LHR - 25 Oct 2014. I agree with other r...   \n",
      "3286           NaN  Toronto to London Heathrow - 26/10/14. After r...   \n",
      "3287           NaN  I have after years of loyalty finally had it w...   \n",
      "3288           NaN  Traveled with British Airways ORD-LHR last mon...   \n",
      "3289           NaN  Travelled to Palma in new BA 'sardine' busines...   \n",
      "\n",
      "             Country Type_of_Travellers                                Route  \\\n",
      "0     United Kingdom     Couple Leisure             London Heathrow to Tokyo   \n",
      "1      United States       Solo Leisure  Miami to Dublin via London Heathrow   \n",
      "2      United States           Business   Prague to San Francisco via London   \n",
      "3     United Kingdom           Business                    London to Glasgow   \n",
      "4             France     Family Leisure   San Diego to Marseille via London    \n",
      "...              ...                ...                                  ...   \n",
      "3285  United Kingdom                NaN                                  NaN   \n",
      "3286  United Kingdom                NaN                                  NaN   \n",
      "3287  United Kingdom                NaN                                  NaN   \n",
      "3288   United States                NaN                                  NaN   \n",
      "3289  United Kingdom                NaN                                  NaN   \n",
      "\n",
      "          Seat_Types  Seat Comfort Date Flown  Cabin Staff Service  \\\n",
      "0      Economy Class           1.0     Sep-23                  1.0   \n",
      "1     Business Class           1.0     Aug-23                  3.0   \n",
      "2     Business Class           1.0     Sep-23                  3.0   \n",
      "3      Economy Class           1.0     Sep-23                  1.0   \n",
      "4      Economy Class           3.0     Aug-23                  2.0   \n",
      "...              ...           ...        ...                  ...   \n",
      "3285  Business Class           3.0        NaN                  2.0   \n",
      "3286  Business Class           4.0        NaN                  5.0   \n",
      "3287  Business Class           3.0        NaN                  1.0   \n",
      "3288  Business Class           5.0        NaN                  5.0   \n",
      "3289  Business Class           1.0        NaN                  1.0   \n",
      "\n",
      "      Ground Service  Food & Beverages  Wifi & Connectivity  \\\n",
      "0                2.0               1.0                  NaN   \n",
      "1                1.0               2.0                  1.0   \n",
      "2                1.0               3.0                  1.0   \n",
      "3                1.0               1.0                  1.0   \n",
      "4                1.0               3.0                  1.0   \n",
      "...              ...               ...                  ...   \n",
      "3285             NaN               1.0                  NaN   \n",
      "3286             NaN               5.0                  NaN   \n",
      "3287             NaN               1.0                  NaN   \n",
      "3288             NaN               4.0                  NaN   \n",
      "3289             NaN               1.0                  NaN   \n",
      "\n",
      "      Inflight Entertainment  Value For Money Recommended  \n",
      "0                        3.0                1          no  \n",
      "1                        1.0                1          no  \n",
      "2                        NaN                1          no  \n",
      "3                        1.0                1          no  \n",
      "4                        3.0                3          no  \n",
      "...                      ...              ...         ...  \n",
      "3285                     3.0                2          no  \n",
      "3286                     5.0                4         yes  \n",
      "3287                     2.0                1          no  \n",
      "3288                     4.0                4         yes  \n",
      "3289                     1.0                1          no  \n",
      "\n",
      "[3290 rows x 15 columns]\n"
     ]
    }
   ],
   "source": [
    "import pandas as pd\n",
    "from sklearn.impute import KNNImputer\n",
    "file_path = '/Users/tanushaerpula/Desktop/Airlines Reviews and Rating.csv'\n",
    "\n",
    "df = pd.read_csv(file_path)\n",
    "\n",
    "print(df)"
   ]
  },
  {
   "cell_type": "code",
   "execution_count": 109,
   "id": "f188c183",
   "metadata": {},
   "outputs": [
    {
     "data": {
      "text/html": [
       "<div>\n",
       "<style scoped>\n",
       "    .dataframe tbody tr th:only-of-type {\n",
       "        vertical-align: middle;\n",
       "    }\n",
       "\n",
       "    .dataframe tbody tr th {\n",
       "        vertical-align: top;\n",
       "    }\n",
       "\n",
       "    .dataframe thead th {\n",
       "        text-align: right;\n",
       "    }\n",
       "</style>\n",
       "<table border=\"1\" class=\"dataframe\">\n",
       "  <thead>\n",
       "    <tr style=\"text-align: right;\">\n",
       "      <th></th>\n",
       "      <th>Aircraft Type</th>\n",
       "      <th>Users Reviews</th>\n",
       "      <th>Country</th>\n",
       "      <th>Type_of_Travellers</th>\n",
       "      <th>Route</th>\n",
       "      <th>Seat_Types</th>\n",
       "      <th>Seat Comfort</th>\n",
       "      <th>Date Flown</th>\n",
       "      <th>Cabin Staff Service</th>\n",
       "      <th>Ground Service</th>\n",
       "      <th>Food &amp; Beverages</th>\n",
       "      <th>Wifi &amp; Connectivity</th>\n",
       "      <th>Inflight Entertainment</th>\n",
       "      <th>Value For Money</th>\n",
       "      <th>Recommended</th>\n",
       "    </tr>\n",
       "  </thead>\n",
       "  <tbody>\n",
       "    <tr>\n",
       "      <th>0</th>\n",
       "      <td>NaN</td>\n",
       "      <td>✅Trip Verified|  Cancelled our flight last-min...</td>\n",
       "      <td>United Kingdom</td>\n",
       "      <td>Couple Leisure</td>\n",
       "      <td>London Heathrow to Tokyo</td>\n",
       "      <td>Economy Class</td>\n",
       "      <td>1.0</td>\n",
       "      <td>Sep-23</td>\n",
       "      <td>1.0</td>\n",
       "      <td>2.0</td>\n",
       "      <td>1.0</td>\n",
       "      <td>NaN</td>\n",
       "      <td>3.0</td>\n",
       "      <td>1</td>\n",
       "      <td>no</td>\n",
       "    </tr>\n",
       "    <tr>\n",
       "      <th>1</th>\n",
       "      <td>NaN</td>\n",
       "      <td>✅Trip Verified| I had a flight from Miami, Flo...</td>\n",
       "      <td>United States</td>\n",
       "      <td>Solo Leisure</td>\n",
       "      <td>Miami to Dublin via London Heathrow</td>\n",
       "      <td>Business Class</td>\n",
       "      <td>1.0</td>\n",
       "      <td>Aug-23</td>\n",
       "      <td>3.0</td>\n",
       "      <td>1.0</td>\n",
       "      <td>2.0</td>\n",
       "      <td>1.0</td>\n",
       "      <td>1.0</td>\n",
       "      <td>1</td>\n",
       "      <td>no</td>\n",
       "    </tr>\n",
       "    <tr>\n",
       "      <th>2</th>\n",
       "      <td>NaN</td>\n",
       "      <td>✅Trip Verified|  We started our day with BA in...</td>\n",
       "      <td>United States</td>\n",
       "      <td>Business</td>\n",
       "      <td>Prague to San Francisco via London</td>\n",
       "      <td>Business Class</td>\n",
       "      <td>1.0</td>\n",
       "      <td>Sep-23</td>\n",
       "      <td>3.0</td>\n",
       "      <td>1.0</td>\n",
       "      <td>3.0</td>\n",
       "      <td>1.0</td>\n",
       "      <td>NaN</td>\n",
       "      <td>1</td>\n",
       "      <td>no</td>\n",
       "    </tr>\n",
       "    <tr>\n",
       "      <th>3</th>\n",
       "      <td>NaN</td>\n",
       "      <td>✅Trip Verified|  I fly British Airways weekly ...</td>\n",
       "      <td>United Kingdom</td>\n",
       "      <td>Business</td>\n",
       "      <td>London to Glasgow</td>\n",
       "      <td>Economy Class</td>\n",
       "      <td>1.0</td>\n",
       "      <td>Sep-23</td>\n",
       "      <td>1.0</td>\n",
       "      <td>1.0</td>\n",
       "      <td>1.0</td>\n",
       "      <td>1.0</td>\n",
       "      <td>1.0</td>\n",
       "      <td>1</td>\n",
       "      <td>no</td>\n",
       "    </tr>\n",
       "    <tr>\n",
       "      <th>4</th>\n",
       "      <td>NaN</td>\n",
       "      <td>Not Verified|  Everything was ok until our con...</td>\n",
       "      <td>France</td>\n",
       "      <td>Family Leisure</td>\n",
       "      <td>San Diego to Marseille via London</td>\n",
       "      <td>Economy Class</td>\n",
       "      <td>3.0</td>\n",
       "      <td>Aug-23</td>\n",
       "      <td>2.0</td>\n",
       "      <td>1.0</td>\n",
       "      <td>3.0</td>\n",
       "      <td>1.0</td>\n",
       "      <td>3.0</td>\n",
       "      <td>3</td>\n",
       "      <td>no</td>\n",
       "    </tr>\n",
       "  </tbody>\n",
       "</table>\n",
       "</div>"
      ],
      "text/plain": [
       "  Aircraft Type                                      Users Reviews  \\\n",
       "0           NaN  ✅Trip Verified|  Cancelled our flight last-min...   \n",
       "1           NaN  ✅Trip Verified| I had a flight from Miami, Flo...   \n",
       "2           NaN  ✅Trip Verified|  We started our day with BA in...   \n",
       "3           NaN  ✅Trip Verified|  I fly British Airways weekly ...   \n",
       "4           NaN  Not Verified|  Everything was ok until our con...   \n",
       "\n",
       "          Country Type_of_Travellers                                Route  \\\n",
       "0  United Kingdom     Couple Leisure             London Heathrow to Tokyo   \n",
       "1   United States       Solo Leisure  Miami to Dublin via London Heathrow   \n",
       "2   United States           Business   Prague to San Francisco via London   \n",
       "3  United Kingdom           Business                    London to Glasgow   \n",
       "4          France     Family Leisure   San Diego to Marseille via London    \n",
       "\n",
       "       Seat_Types  Seat Comfort Date Flown  Cabin Staff Service  \\\n",
       "0   Economy Class           1.0     Sep-23                  1.0   \n",
       "1  Business Class           1.0     Aug-23                  3.0   \n",
       "2  Business Class           1.0     Sep-23                  3.0   \n",
       "3   Economy Class           1.0     Sep-23                  1.0   \n",
       "4   Economy Class           3.0     Aug-23                  2.0   \n",
       "\n",
       "   Ground Service  Food & Beverages  Wifi & Connectivity  \\\n",
       "0             2.0               1.0                  NaN   \n",
       "1             1.0               2.0                  1.0   \n",
       "2             1.0               3.0                  1.0   \n",
       "3             1.0               1.0                  1.0   \n",
       "4             1.0               3.0                  1.0   \n",
       "\n",
       "   Inflight Entertainment  Value For Money Recommended  \n",
       "0                     3.0                1          no  \n",
       "1                     1.0                1          no  \n",
       "2                     NaN                1          no  \n",
       "3                     1.0                1          no  \n",
       "4                     3.0                3          no  "
      ]
     },
     "execution_count": 109,
     "metadata": {},
     "output_type": "execute_result"
    }
   ],
   "source": [
    "df.head()"
   ]
  },
  {
   "cell_type": "code",
   "execution_count": 110,
   "id": "6a48bfcf",
   "metadata": {},
   "outputs": [
    {
     "name": "stdout",
     "output_type": "stream",
     "text": [
      "<class 'pandas.core.frame.DataFrame'>\n",
      "RangeIndex: 3290 entries, 0 to 3289\n",
      "Data columns (total 15 columns):\n",
      " #   Column                  Non-Null Count  Dtype  \n",
      "---  ------                  --------------  -----  \n",
      " 0   Aircraft Type           1896 non-null   object \n",
      " 1   Users Reviews           3290 non-null   object \n",
      " 2   Country                 3289 non-null   object \n",
      " 3   Type_of_Travellers      2887 non-null   object \n",
      " 4   Route                   2883 non-null   object \n",
      " 5   Seat_Types              3287 non-null   object \n",
      " 6   Seat Comfort            3176 non-null   float64\n",
      " 7   Date Flown              2880 non-null   object \n",
      " 8   Cabin Staff Service     3165 non-null   float64\n",
      " 9   Ground Service          2812 non-null   float64\n",
      " 10  Food & Beverages        2911 non-null   float64\n",
      " 11  Wifi & Connectivity     592 non-null    float64\n",
      " 12  Inflight Entertainment  2171 non-null   float64\n",
      " 13  Value For Money         3290 non-null   int64  \n",
      " 14  Recommended             3290 non-null   object \n",
      "dtypes: float64(6), int64(1), object(8)\n",
      "memory usage: 385.7+ KB\n"
     ]
    }
   ],
   "source": [
    "df.info()"
   ]
  },
  {
   "cell_type": "code",
   "execution_count": 111,
   "id": "dd2d4651",
   "metadata": {},
   "outputs": [
    {
     "name": "stdout",
     "output_type": "stream",
     "text": [
      "Aircraft Type             1394\n",
      "Users Reviews                0\n",
      "Country                      1\n",
      "Type_of_Travellers         403\n",
      "Route                      407\n",
      "Seat_Types                   3\n",
      "Seat Comfort               114\n",
      "Date Flown                 410\n",
      "Cabin Staff Service        125\n",
      "Ground Service             478\n",
      "Food & Beverages           379\n",
      "Wifi & Connectivity       2698\n",
      "Inflight Entertainment    1119\n",
      "Value For Money              0\n",
      "Recommended                  0\n",
      "dtype: int64\n"
     ]
    }
   ],
   "source": [
    "null_counts = df.isnull().sum()\n",
    "print(null_counts)"
   ]
  },
  {
   "cell_type": "code",
   "execution_count": 112,
   "id": "c44b896a",
   "metadata": {},
   "outputs": [
    {
     "name": "stdout",
     "output_type": "stream",
     "text": [
      "     Aircraft Type         Country Type_of_Travellers  \\\n",
      "0              NaN  United Kingdom     Couple Leisure   \n",
      "1              NaN   United States       Solo Leisure   \n",
      "2              NaN   United States           Business   \n",
      "3              NaN  United Kingdom           Business   \n",
      "4              NaN          France     Family Leisure   \n",
      "...            ...             ...                ...   \n",
      "3285           NaN  United Kingdom                NaN   \n",
      "3286           NaN  United Kingdom                NaN   \n",
      "3287           NaN  United Kingdom                NaN   \n",
      "3288           NaN   United States                NaN   \n",
      "3289           NaN  United Kingdom                NaN   \n",
      "\n",
      "                                    Route      Seat_Types  Seat Comfort  \\\n",
      "0                London Heathrow to Tokyo   Economy Class           1.0   \n",
      "1     Miami to Dublin via London Heathrow  Business Class           1.0   \n",
      "2      Prague to San Francisco via London  Business Class           1.0   \n",
      "3                       London to Glasgow   Economy Class           1.0   \n",
      "4      San Diego to Marseille via London    Economy Class           3.0   \n",
      "...                                   ...             ...           ...   \n",
      "3285                                  NaN  Business Class           3.0   \n",
      "3286                                  NaN  Business Class           4.0   \n",
      "3287                                  NaN  Business Class           3.0   \n",
      "3288                                  NaN  Business Class           5.0   \n",
      "3289                                  NaN  Business Class           1.0   \n",
      "\n",
      "     Date Flown  Cabin Staff Service  Ground Service  Food & Beverages  \\\n",
      "0        Sep-23                  1.0             2.0               1.0   \n",
      "1        Aug-23                  3.0             1.0               2.0   \n",
      "2        Sep-23                  3.0             1.0               3.0   \n",
      "3        Sep-23                  1.0             1.0               1.0   \n",
      "4        Aug-23                  2.0             1.0               3.0   \n",
      "...         ...                  ...             ...               ...   \n",
      "3285        NaN                  2.0             NaN               1.0   \n",
      "3286        NaN                  5.0             NaN               5.0   \n",
      "3287        NaN                  1.0             NaN               1.0   \n",
      "3288        NaN                  5.0             NaN               4.0   \n",
      "3289        NaN                  1.0             NaN               1.0   \n",
      "\n",
      "      Wifi & Connectivity  Inflight Entertainment  Value For Money Recommended  \n",
      "0                     NaN                     3.0                1          no  \n",
      "1                     1.0                     1.0                1          no  \n",
      "2                     1.0                     NaN                1          no  \n",
      "3                     1.0                     1.0                1          no  \n",
      "4                     1.0                     3.0                3          no  \n",
      "...                   ...                     ...              ...         ...  \n",
      "3285                  NaN                     3.0                2          no  \n",
      "3286                  NaN                     5.0                4         yes  \n",
      "3287                  NaN                     2.0                1          no  \n",
      "3288                  NaN                     4.0                4         yes  \n",
      "3289                  NaN                     1.0                1          no  \n",
      "\n",
      "[3290 rows x 14 columns]\n"
     ]
    }
   ],
   "source": [
    "df = df.drop(\"Users Reviews\", axis='columns')\n",
    "\n",
    "print(df)"
   ]
  },
  {
   "cell_type": "code",
   "execution_count": 113,
   "id": "71fa097e",
   "metadata": {},
   "outputs": [
    {
     "name": "stdout",
     "output_type": "stream",
     "text": [
      "k\tTest MSE\n",
      "3\t0.0000\n",
      "5\t0.0000\n",
      "7\t0.0000\n",
      "9\t0.0000\n",
      "11\t0.0000\n",
      "Optimal number of neighbors: 3\n"
     ]
    }
   ],
   "source": [
    "#choosing the optimal k value\n",
    "\n",
    "from sklearn.impute import KNNImputer\n",
    "from sklearn.model_selection import train_test_split\n",
    "from sklearn.metrics import mean_squared_error\n",
    "import numpy as np\n",
    "\n",
    "\n",
    "# Separate numerical columns\n",
    "numerical_cols = df.select_dtypes(include=['number']).columns\n",
    "\n",
    "# Split data into training and testing sets\n",
    "train_df, test_df = train_test_split(df, test_size=0.2, random_state=42)\n",
    "\n",
    "# Function to evaluate k-NN imputer\n",
    "def evaluate_knn_imputer(k, train_data, test_data, numerical_cols):\n",
    "    imputer = KNNImputer(n_neighbors=k)\n",
    "    train_imputed = imputer.fit_transform(train_data[numerical_cols])\n",
    "    test_imputed = imputer.transform(test_data[numerical_cols])\n",
    "    \n",
    "    # Create a mask for non-NaN values in the test set\n",
    "    test_non_nan_mask = ~np.isnan(test_data[numerical_cols].values)\n",
    "    \n",
    "    # Flatten the mask to 1D array\n",
    "    flat_mask = test_non_nan_mask.flatten()\n",
    "    \n",
    "    # Compute MSE only on the originally available data\n",
    "    test_original = test_data[numerical_cols].values.flatten()[flat_mask]\n",
    "    test_imputed_flat = test_imputed.flatten()[flat_mask]\n",
    "    \n",
    "    test_mse = mean_squared_error(test_original, test_imputed_flat)\n",
    "    \n",
    "    return test_mse\n",
    "\n",
    "# Grid search for optimal k\n",
    "k_values = [3, 5, 7, 9, 11]\n",
    "results = {}\n",
    "\n",
    "for k in k_values:\n",
    "    test_mse = evaluate_knn_imputer(k, train_df, test_df, numerical_cols)\n",
    "    results[k] = test_mse\n",
    "\n",
    "\n",
    "print(\"k\\tTest MSE\")\n",
    "for k in k_values:\n",
    "    print(f\"{k}\\t{results[k]:.4f}\")\n",
    "\n",
    "# Choose the best k\n",
    "best_k = min(results, key=results.get)\n",
    "print(f\"Optimal number of neighbors: {best_k}\")\n"
   ]
  },
  {
   "cell_type": "code",
   "execution_count": 114,
   "id": "41f7cc43",
   "metadata": {},
   "outputs": [
    {
     "name": "stdout",
     "output_type": "stream",
     "text": [
      "Null counts before imputation (numerical):\n",
      " Seat Comfort               114\n",
      "Cabin Staff Service        125\n",
      "Ground Service             478\n",
      "Food & Beverages           379\n",
      "Wifi & Connectivity       2698\n",
      "Inflight Entertainment    1119\n",
      "Value For Money              0\n",
      "dtype: int64\n",
      "Null counts after imputation (numerical):\n",
      " Seat Comfort              0\n",
      "Cabin Staff Service       0\n",
      "Ground Service            0\n",
      "Food & Beverages          0\n",
      "Wifi & Connectivity       0\n",
      "Inflight Entertainment    0\n",
      "Value For Money           0\n",
      "dtype: int64\n"
     ]
    }
   ],
   "source": [
    "#Imputing numerical columns using k value\n",
    "import pandas as pd\n",
    "from sklearn.impute import KNNImputer\n",
    "\n",
    "\n",
    "# Display the null counts before imputation for numerical columns\n",
    "numerical_cols = df.select_dtypes(include=['number']).columns\n",
    "print(\"Null counts before imputation (numerical):\\n\", df[numerical_cols].isnull().sum())\n",
    "\n",
    "# Handle NaN values in numerical columns using KNNImputer\n",
    "knn_imputer = KNNImputer(n_neighbors=3)\n",
    "df[numerical_cols] = knn_imputer.fit_transform(df[numerical_cols])\n",
    "\n",
    "#the null counts after imputation for numerical columns\n",
    "print(\"Null counts after imputation (numerical):\\n\", df[numerical_cols].isnull().sum())"
   ]
  },
  {
   "cell_type": "code",
   "execution_count": 115,
   "id": "ca341b95",
   "metadata": {},
   "outputs": [
    {
     "name": "stdout",
     "output_type": "stream",
     "text": [
      "Null counts before imputation (categorical):\n",
      " Country                 1\n",
      "Type_of_Travellers    403\n",
      "Route                 407\n",
      "Seat_Types              3\n",
      "dtype: int64\n",
      "Null counts after imputation (categorical):\n",
      " Country               0\n",
      "Type_of_Travellers    0\n",
      "Route                 0\n",
      "Seat_Types            0\n",
      "dtype: int64\n"
     ]
    }
   ],
   "source": [
    "#Imputing categorical values\n",
    "# Display the null counts before imputation for categorical columns\n",
    "categorical_cols = ['Country', 'Type_of_Travellers', 'Route', 'Seat_Types']\n",
    "print(\"Null counts before imputation (categorical):\\n\",df[categorical_cols].isnull().sum())\n",
    "\n",
    "# Function to impute missing categorical values using mode\n",
    "def majority_vote_imputer(data):\n",
    "    imputed_data = data.copy()\n",
    "    for col in data.columns:\n",
    "        imputed_data[col].fillna(imputed_data[col].mode()[0], inplace=True)\n",
    "    return imputed_data\n",
    "\n",
    "# Impute missing categorical values using majority voting (mode)\n",
    "df[categorical_cols] = majority_vote_imputer(df[categorical_cols])\n",
    "\n",
    "# Display the null counts after imputation for categorical columns\n",
    "print(\"Null counts after imputation (categorical):\\n\", df[categorical_cols].isnull().sum())\n",
    "\n"
   ]
  },
  {
   "cell_type": "code",
   "execution_count": 104,
   "id": "93d0235c",
   "metadata": {
    "scrolled": true
   },
   "outputs": [
    {
     "name": "stdout",
     "output_type": "stream",
     "text": [
      "Imputed DataFrame:\n",
      "    Seat Comfort  Cabin Staff Service  Ground Service  Food & Beverages  \\\n",
      "0           1.0                  1.0             2.0               1.0   \n",
      "1           1.0                  3.0             1.0               2.0   \n",
      "2           1.0                  3.0             1.0               3.0   \n",
      "3           1.0                  1.0             1.0               1.0   \n",
      "4           3.0                  2.0             1.0               3.0   \n",
      "\n",
      "   Wifi & Connectivity  Inflight Entertainment  Value For Money  \\\n",
      "0             1.666667                3.000000              1.0   \n",
      "1             1.000000                1.000000              1.0   \n",
      "2             1.000000                1.666667              1.0   \n",
      "3             1.000000                1.000000              1.0   \n",
      "4             1.000000                3.000000              3.0   \n",
      "\n",
      "          Country Type_of_Travellers                                Route  \\\n",
      "0  United Kingdom     Couple Leisure             London Heathrow to Tokyo   \n",
      "1   United States       Solo Leisure  Miami to Dublin via London Heathrow   \n",
      "2   United States           Business   Prague to San Francisco via London   \n",
      "3  United Kingdom           Business                    London to Glasgow   \n",
      "4          France     Family Leisure   San Diego to Marseille via London    \n",
      "\n",
      "       Seat_Types  \n",
      "0   Economy Class  \n",
      "1  Business Class  \n",
      "2  Business Class  \n",
      "3   Economy Class  \n",
      "4   Economy Class  \n"
     ]
    }
   ],
   "source": [
    "# Combine numerical and categorical data back into a single DataFrame\n",
    "imputed_df = pd.concat([df[numerical_cols], df[categorical_cols]], axis=1)\n",
    "\n",
    "\n",
    "#combined DataFrame with imputed values\n",
    "print(\"Imputed DataFrame:\\n\", imputed_df.head())\n"
   ]
  },
  {
   "cell_type": "code",
   "execution_count": 116,
   "id": "431728dd",
   "metadata": {},
   "outputs": [
    {
     "data": {
      "text/plain": [
       "Aircraft Type             1394\n",
       "Country                      0\n",
       "Type_of_Travellers           0\n",
       "Route                        0\n",
       "Seat_Types                   0\n",
       "Seat Comfort                 0\n",
       "Date Flown                 410\n",
       "Cabin Staff Service          0\n",
       "Ground Service               0\n",
       "Food & Beverages             0\n",
       "Wifi & Connectivity          0\n",
       "Inflight Entertainment       0\n",
       "Value For Money              0\n",
       "Recommended                  0\n",
       "dtype: int64"
      ]
     },
     "execution_count": 116,
     "metadata": {},
     "output_type": "execute_result"
    }
   ],
   "source": [
    "df.isnull().sum()"
   ]
  },
  {
   "cell_type": "code",
   "execution_count": 117,
   "id": "cf7b669d",
   "metadata": {},
   "outputs": [
    {
     "name": "stdout",
     "output_type": "stream",
     "text": [
      "Number of missing values in 'Aircraft Type': 1394\n",
      "After imputation, number of missing values in 'Aircraft Type': 0\n"
     ]
    }
   ],
   "source": [
    "# Count missing values in 'Aircraft Type'\n",
    "missing_count = df['Aircraft Type'].isnull().sum()\n",
    "print(f\"Number of missing values in 'Aircraft Type': {missing_count}\")\n",
    "\n",
    "# Impute missing values with the most frequent value (mode)\n",
    "most_frequent_aircraft_type = df['Aircraft Type'].mode()[0]\n",
    "df['Aircraft Type'].fillna(most_frequent_aircraft_type, inplace=True)\n",
    "\n",
    "# Verify that missing values have been imputed\n",
    "missing_count_after = df['Aircraft Type'].isnull().sum()\n",
    "print(f\"After imputation, number of missing values in 'Aircraft Type': {missing_count_after}\")\n"
   ]
  },
  {
   "cell_type": "code",
   "execution_count": 118,
   "id": "42813b02",
   "metadata": {},
   "outputs": [
    {
     "name": "stdout",
     "output_type": "stream",
     "text": [
      "Number of missing values in 'Date Flown': 410\n",
      "After imputation, number of missing values in 'Date Flown': 0\n"
     ]
    }
   ],
   "source": [
    "# Count missing values in 'Date Flown'\n",
    "missing_count = df['Date Flown'].isnull().sum()\n",
    "print(f\"Number of missing values in 'Date Flown': {missing_count}\")\n",
    "\n",
    "# Impute missing values with the most frequent date (mode)\n",
    "most_frequent_date = df['Date Flown'].mode()[0]\n",
    "df['Date Flown'].fillna(most_frequent_date, inplace=True)\n",
    "\n",
    "# Verify that missing values have been imputed\n",
    "missing_count_after = df['Date Flown'].isnull().sum()\n",
    "print(f\"After imputation, number of missing values in 'Date Flown': {missing_count_after}\")\n"
   ]
  },
  {
   "cell_type": "code",
   "execution_count": 120,
   "id": "40afc875",
   "metadata": {},
   "outputs": [
    {
     "data": {
      "text/plain": [
       "Aircraft Type             0\n",
       "Country                   0\n",
       "Type_of_Travellers        0\n",
       "Route                     0\n",
       "Seat_Types                0\n",
       "Seat Comfort              0\n",
       "Date Flown                0\n",
       "Cabin Staff Service       0\n",
       "Ground Service            0\n",
       "Food & Beverages          0\n",
       "Wifi & Connectivity       0\n",
       "Inflight Entertainment    0\n",
       "Value For Money           0\n",
       "Recommended               0\n",
       "dtype: int64"
      ]
     },
     "execution_count": 120,
     "metadata": {},
     "output_type": "execute_result"
    }
   ],
   "source": [
    "df.isnull().sum()"
   ]
  },
  {
   "cell_type": "code",
   "execution_count": 132,
   "id": "260a0716",
   "metadata": {},
   "outputs": [],
   "source": [
    "df.to_csv('/Users/tanushaerpula/Desktop/Airlines Reviews and Rating.csv', index=False)"
   ]
  },
  {
   "cell_type": "code",
   "execution_count": 134,
   "id": "525c1906",
   "metadata": {},
   "outputs": [
    {
     "data": {
      "image/png": "[encoded data removed]",
      "text/plain": [
       "<Figure size 1000x600 with 1 Axes>"
      ]
     },
     "metadata": {},
     "output_type": "display_data"
    }
   ],
   "source": [
    "import matplotlib.pyplot as plt\n",
    "grouped_data = df.groupby('Value For Money')['Inflight Entertainment'].mean()\n",
    "\n",
    "# Plotting the bar chart\n",
    "plt.figure(figsize=(10, 6))\n",
    "grouped_data.plot(kind='bar', color='#3F729B')\n",
    "\n",
    "# Adding title and labels\n",
    "plt.title('Average Inflight Entertainment Rating by Value For Money')\n",
    "plt.xlabel('Value For Money')\n",
    "plt.ylabel('Average Inflight Entertainment Rating')\n",
    "plt.xticks(rotation=0)\n",
    "\n",
    "# Show the plot\n",
    "plt.show()\n"
   ]
  },
  {
   "cell_type": "code",
   "execution_count": 138,
   "id": "3dd9d703",
   "metadata": {},
   "outputs": [
    {
     "name": "stdout",
     "output_type": "stream",
     "text": [
      "Aircraft Type              object\n",
      "Country                    object\n",
      "Type_of_Travellers         object\n",
      "Route                      object\n",
      "Seat_Types                 object\n",
      "Seat Comfort              float64\n",
      "Date Flown                 object\n",
      "Cabin Staff Service       float64\n",
      "Ground Service            float64\n",
      "Food & Beverages          float64\n",
      "Wifi & Connectivity       float64\n",
      "Inflight Entertainment    float64\n",
      "Value For Money           float64\n",
      "Recommended                object\n",
      "dtype: object\n"
     ]
    }
   ],
   "source": [
    "print(df.dtypes)"
   ]
  },
  {
   "cell_type": "code",
   "execution_count": null,
   "id": "2ae2f7b5",
   "metadata": {},
   "outputs": [],
   "source": []
  }
 ],
 "metadata": {
  "kernelspec": {
   "display_name": "Python 3 (ipykernel)",
   "language": "python",
   "name": "python3"
  },
  "language_info": {
   "codemirror_mode": {
    "name": "ipython",
    "version": 3
   },
   "file_extension": ".py",
   "mimetype": "text/x-python",
   "name": "python",
   "nbconvert_exporter": "python",
   "pygments_lexer": "ipython3",
   "version": "3.9.13"
  }
 },
 "nbformat": 4,
 "nbformat_minor": 5
}
